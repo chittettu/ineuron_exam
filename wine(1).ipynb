{
 "cells": [
  {
   "cell_type": "code",
   "execution_count": 78,
   "id": "e8c9ba4a-19de-4c98-aa77-c189642eecab",
   "metadata": {
    "tags": []
   },
   "outputs": [
    {
     "name": "stdout",
     "output_type": "stream",
     "text": [
      "Best Hyperparameters: {'criterion': 'entropy', 'max_depth': 8, 'max_features': 'sqrt', 'min_samples_leaf': 3, 'min_samples_split': 2}\n",
      "Accuracy of Decision Tree: 0.9166666666666666\n",
      "Accuracy of Random Forest: 0.9722222222222222\n"
     ]
    }
   ],
   "source": [
    "from sklearn.datasets import load_wine\n",
    "from sklearn.model_selection import train_test_split, RandomizedSearchCV, ShuffleSplit\n",
    "from sklearn.tree import DecisionTreeClassifier\n",
    "from sklearn.ensemble import RandomForestClassifier\n",
    "from sklearn.metrics import accuracy_score\n",
    "from scipy.stats import randint\n",
    "import numpy as np\n",
    "\n",
    "# Step 1: Load wine dataset\n",
    "wine = load_wine()\n",
    "X = wine.data\n",
    "y = wine.target\n",
    "\n",
    "# Step 2: Split the dataset into train and test\n",
    "X_train, X_test, y_train, y_test = train_test_split(X, y, test_size=0.2, random_state=42)\n",
    "\n",
    "# Step 3: Hyperparameter tune the Decision Tree using RandomizedSearchCV\n",
    "dt_classifier = DecisionTreeClassifier()\n",
    "param_dist = {\n",
    "    'criterion': ['gini', 'entropy'],\n",
    "    'max_depth': randint(1, 10),\n",
    "    'min_samples_split': randint(2, 20),\n",
    "    'min_samples_leaf': randint(1, 20),\n",
    "    'max_features': ['auto', 'sqrt', 'log2']\n",
    "}\n",
    "\n",
    "random_search = RandomizedSearchCV(dt_classifier, param_distributions=param_dist, n_iter=100, cv=5, scoring='accuracy', random_state=42)\n",
    "random_search.fit(X_train, y_train)\n",
    "\n",
    "# Get the best hyperparameters\n",
    "best_params = random_search.best_params_\n",
    "print(\"Best Hyperparameters:\", best_params)\n",
    "\n",
    "# Use the best model for predictions\n",
    "best_dt_model = random_search.best_estimator_\n",
    "y_pred_dt = best_dt_model.predict(X_test)\n",
    "\n",
    "# Evaluate the Decision Tree model\n",
    "accuracy_dt = accuracy_score(y_test, y_pred_dt)\n",
    "print(\"Accuracy of Decision Tree:\", accuracy_dt)\n",
    "\n",
    "# Step 4: Grow a Random Forest\n",
    "# Create 10 subsets using ShuffleSplit\n",
    "ss = ShuffleSplit(n_splits=10, test_size=0.2, random_state=42)\n",
    "\n",
    "# Train 1 Decision Tree on each subset\n",
    "forest = []\n",
    "for train_index, _ in ss.split(X_train):\n",
    "    subset_X_train, subset_y_train = X_train[train_index], y_train[train_index]\n",
    "    tree = DecisionTreeClassifier(**best_params)\n",
    "    tree.fit(subset_X_train, subset_y_train)\n",
    "    forest.append(tree)\n",
    "\n",
    "# Evaluate all the trees on the test dataset\n",
    "forest_predictions = np.array([tree.predict(X_test) for tree in forest])\n",
    "forest_predictions_majority_vote = np.apply_along_axis(lambda x: np.bincount(x).argmax(), axis=0, arr=forest_predictions)\n",
    "\n",
    "# Evaluate the Random Forest model\n",
    "accuracy_rf = accuracy_score(y_test, forest_predictions_majority_vote)\n",
    "print(\"Accuracy of Random Forest:\", accuracy_rf)\n"
   ]
  }
 ],
 "metadata": {
  "kernelspec": {
   "display_name": "Python 3 (ipykernel)",
   "language": "python",
   "name": "python3"
  },
  "language_info": {
   "codemirror_mode": {
    "name": "ipython",
    "version": 3
   },
   "file_extension": ".py",
   "mimetype": "text/x-python",
   "name": "python",
   "nbconvert_exporter": "python",
   "pygments_lexer": "ipython3",
   "version": "3.11.5"
  }
 },
 "nbformat": 4,
 "nbformat_minor": 5
}
